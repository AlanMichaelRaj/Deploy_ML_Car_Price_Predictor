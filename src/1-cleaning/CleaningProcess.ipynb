{
 "cells": [
  {
   "cell_type": "code",
   "execution_count": 6,
   "id": "a8efe959",
   "metadata": {},
   "outputs": [],
   "source": [
    "import pandas as pd\n",
    "import numpy as np \n",
    "from sklearn.model_selection import train_test_split"
   ]
  },
  {
   "cell_type": "code",
   "execution_count": 7,
   "id": "0962a027",
   "metadata": {},
   "outputs": [],
   "source": [
    "def load_data(file_path):\n",
    "    df = pd.read_excel(file_path)\n",
    "    return df"
   ]
  },
  {
   "cell_type": "code",
   "execution_count": 8,
   "id": "4d187fe8",
   "metadata": {},
   "outputs": [
    {
     "data": {
      "text/html": [
       "<div>\n",
       "<style scoped>\n",
       "    .dataframe tbody tr th:only-of-type {\n",
       "        vertical-align: middle;\n",
       "    }\n",
       "\n",
       "    .dataframe tbody tr th {\n",
       "        vertical-align: top;\n",
       "    }\n",
       "\n",
       "    .dataframe thead th {\n",
       "        text-align: right;\n",
       "    }\n",
       "</style>\n",
       "<table border=\"1\" class=\"dataframe\">\n",
       "  <thead>\n",
       "    <tr style=\"text-align: right;\">\n",
       "      <th></th>\n",
       "      <th>Brand</th>\n",
       "      <th>Model</th>\n",
       "      <th>Year</th>\n",
       "      <th>EngineSize</th>\n",
       "      <th>Fuel</th>\n",
       "      <th>Transmission</th>\n",
       "      <th>Mileage</th>\n",
       "      <th>Doors</th>\n",
       "      <th>OwnerCount</th>\n",
       "      <th>Price</th>\n",
       "    </tr>\n",
       "  </thead>\n",
       "  <tbody>\n",
       "    <tr>\n",
       "      <th>0</th>\n",
       "      <td>Kia</td>\n",
       "      <td>Rio</td>\n",
       "      <td>2020.0</td>\n",
       "      <td>4.2</td>\n",
       "      <td>Diesel</td>\n",
       "      <td>Manual</td>\n",
       "      <td>289944.0</td>\n",
       "      <td>3.0</td>\n",
       "      <td>5.0</td>\n",
       "      <td>8501.0</td>\n",
       "    </tr>\n",
       "    <tr>\n",
       "      <th>1</th>\n",
       "      <td>Chevrolet</td>\n",
       "      <td>Malibu</td>\n",
       "      <td>2012.0</td>\n",
       "      <td>2.0</td>\n",
       "      <td>Hybrid</td>\n",
       "      <td>Automatic</td>\n",
       "      <td>5356.0</td>\n",
       "      <td>2.0</td>\n",
       "      <td>3.0</td>\n",
       "      <td>12092.0</td>\n",
       "    </tr>\n",
       "    <tr>\n",
       "      <th>2</th>\n",
       "      <td>Mercedes</td>\n",
       "      <td>GLA</td>\n",
       "      <td>2020.0</td>\n",
       "      <td>4.2</td>\n",
       "      <td>Diesel</td>\n",
       "      <td>Automatic</td>\n",
       "      <td>231440.0</td>\n",
       "      <td>4.0</td>\n",
       "      <td>2.0</td>\n",
       "      <td>11171.0</td>\n",
       "    </tr>\n",
       "    <tr>\n",
       "      <th>3</th>\n",
       "      <td>Audi</td>\n",
       "      <td>Q5</td>\n",
       "      <td>2023.0</td>\n",
       "      <td>2.0</td>\n",
       "      <td>Electric</td>\n",
       "      <td>Manual</td>\n",
       "      <td>160971.0</td>\n",
       "      <td>2.0</td>\n",
       "      <td>1.0</td>\n",
       "      <td>11780.0</td>\n",
       "    </tr>\n",
       "    <tr>\n",
       "      <th>4</th>\n",
       "      <td>Volkswagen</td>\n",
       "      <td>Golf</td>\n",
       "      <td>2003.0</td>\n",
       "      <td>2.6</td>\n",
       "      <td>Hybrid</td>\n",
       "      <td>Semi-Automatic</td>\n",
       "      <td>286618.0</td>\n",
       "      <td>3.0</td>\n",
       "      <td>3.0</td>\n",
       "      <td>2867.0</td>\n",
       "    </tr>\n",
       "  </tbody>\n",
       "</table>\n",
       "</div>"
      ],
      "text/plain": [
       "        Brand   Model    Year  EngineSize      Fuel    Transmission   Mileage  \\\n",
       "0         Kia     Rio  2020.0         4.2    Diesel          Manual  289944.0   \n",
       "1   Chevrolet  Malibu  2012.0         2.0    Hybrid       Automatic    5356.0   \n",
       "2    Mercedes     GLA  2020.0         4.2    Diesel       Automatic  231440.0   \n",
       "3        Audi      Q5  2023.0         2.0  Electric          Manual  160971.0   \n",
       "4  Volkswagen    Golf  2003.0         2.6    Hybrid  Semi-Automatic  286618.0   \n",
       "\n",
       "   Doors  OwnerCount    Price  \n",
       "0    3.0         5.0   8501.0  \n",
       "1    2.0         3.0  12092.0  \n",
       "2    4.0         2.0  11171.0  \n",
       "3    2.0         1.0  11780.0  \n",
       "4    3.0         3.0   2867.0  "
      ]
     },
     "execution_count": 8,
     "metadata": {},
     "output_type": "execute_result"
    }
   ],
   "source": [
    "file_path = '../../data/raw_data.xlsx'\n",
    "df = load_data(file_path)\n",
    "df.head()\n"
   ]
  },
  {
   "cell_type": "code",
   "execution_count": 10,
   "id": "9b3d4f4d",
   "metadata": {},
   "outputs": [],
   "source": [
    "X = df.drop('Price', axis=1)\n",
    "y = df['Price']\n",
    "\n",
    "X_train, X_test, y_train, y_test = train_test_split(X, y, test_size=0.2, random_state=42)\n",
    "\n",
    "df_train = X_train.copy()\n",
    "df['Price'] = y_train\n"
   ]
  },
  {
   "cell_type": "markdown",
   "id": "68907a03",
   "metadata": {},
   "source": [
    "Remove Extra Columns"
   ]
  },
  {
   "cell_type": "markdown",
   "id": "92c36b3e",
   "metadata": {},
   "source": [
    "Columns Typecasting\n"
   ]
  },
  {
   "cell_type": "code",
   "execution_count": 11,
   "id": "f420ab68",
   "metadata": {},
   "outputs": [
    {
     "name": "stdout",
     "output_type": "stream",
     "text": [
      "Brand            object\n",
      "Model            object\n",
      "Year            float64\n",
      "EngineSize      float64\n",
      "Fuel             object\n",
      "Transmission     object\n",
      "Mileage         float64\n",
      "Doors           float64\n",
      "OwnerCount      float64\n",
      "Price           float64\n",
      "dtype: object\n"
     ]
    }
   ],
   "source": [
    "print(df.dtypes)"
   ]
  },
  {
   "cell_type": "markdown",
   "id": "dd254fcf",
   "metadata": {},
   "source": [
    " Handle Missing Values "
   ]
  },
  {
   "cell_type": "code",
   "execution_count": 16,
   "id": "3b18669b",
   "metadata": {},
   "outputs": [
    {
     "name": "stdout",
     "output_type": "stream",
     "text": [
      "Brand -- 0 -- 0.0%\n",
      "Model -- 0 -- 0.0%\n",
      "Year -- 0 -- 0.0%\n",
      "EngineSize -- 0 -- 0.0%\n",
      "Fuel -- 0 -- 0.0%\n",
      "Transmission -- 0 -- 0.0%\n",
      "Mileage -- 0 -- 0.0%\n",
      "Doors -- 0 -- 0.0%\n",
      "OwnerCount -- 0 -- 0.0%\n",
      "Price -- 0 -- 0.0%\n"
     ]
    }
   ],
   "source": [
    "# Assuming df is your DataFrame\n",
    "df['Price'].fillna(0, inplace=True)\n",
    "\n",
    "# Now, let's re-run the missing value check to confirm\n",
    "for col in df.columns:\n",
    "    number_null = df.loc[:, col].isnull().sum()\n",
    "    perc_null = (number_null / df.shape[0]) * 100\n",
    "    print('{} -- {} -- {}%'.format(col, number_null, round(perc_null, 2)))"
   ]
  },
  {
   "cell_type": "markdown",
   "id": "74fd2079",
   "metadata": {},
   "source": [
    "Handle Duplicate Rows\n"
   ]
  },
  {
   "cell_type": "code",
   "execution_count": 17,
   "id": "efb80f5f",
   "metadata": {},
   "outputs": [
    {
     "name": "stdout",
     "output_type": "stream",
     "text": [
      "No Duplications.\n"
     ]
    }
   ],
   "source": [
    "duplicate_rows = df.duplicated()\n",
    "\n",
    "if duplicate_rows.any():\n",
    "    print(\"There is Duplicate.\")\n",
    "else:\n",
    "    print(\"No Duplications.\")"
   ]
  },
  {
   "cell_type": "markdown",
   "id": "c3fe4c92",
   "metadata": {},
   "source": [
    "Numerical Sanity Check"
   ]
  },
  {
   "cell_type": "code",
   "execution_count": 18,
   "id": "9bcdb1fb",
   "metadata": {},
   "outputs": [],
   "source": [
    "numeric_columns = df.select_dtypes(include=['int64', 'float64']).columns.tolist()"
   ]
  },
  {
   "cell_type": "code",
   "execution_count": 20,
   "id": "f2b4d1e2",
   "metadata": {},
   "outputs": [
    {
     "data": {
      "text/html": [
       "<div>\n",
       "<style scoped>\n",
       "    .dataframe tbody tr th:only-of-type {\n",
       "        vertical-align: middle;\n",
       "    }\n",
       "\n",
       "    .dataframe tbody tr th {\n",
       "        vertical-align: top;\n",
       "    }\n",
       "\n",
       "    .dataframe thead th {\n",
       "        text-align: right;\n",
       "    }\n",
       "</style>\n",
       "<table border=\"1\" class=\"dataframe\">\n",
       "  <thead>\n",
       "    <tr style=\"text-align: right;\">\n",
       "      <th></th>\n",
       "      <th>Year</th>\n",
       "      <th>EngineSize</th>\n",
       "      <th>Mileage</th>\n",
       "      <th>Doors</th>\n",
       "      <th>OwnerCount</th>\n",
       "      <th>Price</th>\n",
       "    </tr>\n",
       "  </thead>\n",
       "  <tbody>\n",
       "    <tr>\n",
       "      <th>count</th>\n",
       "      <td>10000.000000</td>\n",
       "      <td>10000.000000</td>\n",
       "      <td>10000.000000</td>\n",
       "      <td>10000.000000</td>\n",
       "      <td>10000.000000</td>\n",
       "      <td>10000.000000</td>\n",
       "    </tr>\n",
       "    <tr>\n",
       "      <th>mean</th>\n",
       "      <td>2011.543700</td>\n",
       "      <td>3.000560</td>\n",
       "      <td>149239.111800</td>\n",
       "      <td>3.497100</td>\n",
       "      <td>2.991100</td>\n",
       "      <td>7062.996200</td>\n",
       "    </tr>\n",
       "    <tr>\n",
       "      <th>std</th>\n",
       "      <td>6.897699</td>\n",
       "      <td>1.149324</td>\n",
       "      <td>86322.348957</td>\n",
       "      <td>1.110097</td>\n",
       "      <td>1.422682</td>\n",
       "      <td>4507.870047</td>\n",
       "    </tr>\n",
       "    <tr>\n",
       "      <th>min</th>\n",
       "      <td>2000.000000</td>\n",
       "      <td>1.000000</td>\n",
       "      <td>25.000000</td>\n",
       "      <td>2.000000</td>\n",
       "      <td>1.000000</td>\n",
       "      <td>0.000000</td>\n",
       "    </tr>\n",
       "    <tr>\n",
       "      <th>25%</th>\n",
       "      <td>2006.000000</td>\n",
       "      <td>2.000000</td>\n",
       "      <td>74649.250000</td>\n",
       "      <td>3.000000</td>\n",
       "      <td>2.000000</td>\n",
       "      <td>3919.750000</td>\n",
       "    </tr>\n",
       "    <tr>\n",
       "      <th>50%</th>\n",
       "      <td>2012.000000</td>\n",
       "      <td>3.000000</td>\n",
       "      <td>149587.000000</td>\n",
       "      <td>3.000000</td>\n",
       "      <td>3.000000</td>\n",
       "      <td>7810.500000</td>\n",
       "    </tr>\n",
       "    <tr>\n",
       "      <th>75%</th>\n",
       "      <td>2017.000000</td>\n",
       "      <td>4.000000</td>\n",
       "      <td>223577.500000</td>\n",
       "      <td>4.000000</td>\n",
       "      <td>4.000000</td>\n",
       "      <td>10441.000000</td>\n",
       "    </tr>\n",
       "    <tr>\n",
       "      <th>max</th>\n",
       "      <td>2023.000000</td>\n",
       "      <td>5.000000</td>\n",
       "      <td>299947.000000</td>\n",
       "      <td>5.000000</td>\n",
       "      <td>5.000000</td>\n",
       "      <td>18301.000000</td>\n",
       "    </tr>\n",
       "  </tbody>\n",
       "</table>\n",
       "</div>"
      ],
      "text/plain": [
       "               Year    EngineSize        Mileage         Doors    OwnerCount  \\\n",
       "count  10000.000000  10000.000000   10000.000000  10000.000000  10000.000000   \n",
       "mean    2011.543700      3.000560  149239.111800      3.497100      2.991100   \n",
       "std        6.897699      1.149324   86322.348957      1.110097      1.422682   \n",
       "min     2000.000000      1.000000      25.000000      2.000000      1.000000   \n",
       "25%     2006.000000      2.000000   74649.250000      3.000000      2.000000   \n",
       "50%     2012.000000      3.000000  149587.000000      3.000000      3.000000   \n",
       "75%     2017.000000      4.000000  223577.500000      4.000000      4.000000   \n",
       "max     2023.000000      5.000000  299947.000000      5.000000      5.000000   \n",
       "\n",
       "              Price  \n",
       "count  10000.000000  \n",
       "mean    7062.996200  \n",
       "std     4507.870047  \n",
       "min        0.000000  \n",
       "25%     3919.750000  \n",
       "50%     7810.500000  \n",
       "75%    10441.000000  \n",
       "max    18301.000000  "
      ]
     },
     "execution_count": 20,
     "metadata": {},
     "output_type": "execute_result"
    }
   ],
   "source": [
    "df[numeric_columns].describe()"
   ]
  },
  {
   "cell_type": "markdown",
   "id": "7f838445",
   "metadata": {},
   "source": [
    "Categorical Sanity Check\n"
   ]
  },
  {
   "cell_type": "code",
   "execution_count": 33,
   "id": "424d4184",
   "metadata": {},
   "outputs": [],
   "source": [
    "cat_columns = df.select_dtypes(exclude=['int64', 'float64']).columns.tolist()"
   ]
  },
  {
   "cell_type": "code",
   "execution_count": 35,
   "id": "c57ef27f",
   "metadata": {},
   "outputs": [],
   "source": [
    "def Cat_Checker(CatIndex):\n",
    "    values = np.sort(df[cat_columns[CatIndex]].unique())\n",
    "    return cat_columns[CatIndex], values"
   ]
  },
  {
   "cell_type": "code",
   "execution_count": 36,
   "id": "f2e67769",
   "metadata": {},
   "outputs": [
    {
     "data": {
      "text/plain": [
       "('Brand',\n",
       " array(['Audi', 'BMW', 'Chevrolet', 'Ford', 'Honda', 'Hyundai', 'Kia',\n",
       "        'Mercedes', 'Toyota', 'Volkswagen'], dtype=object))"
      ]
     },
     "execution_count": 36,
     "metadata": {},
     "output_type": "execute_result"
    }
   ],
   "source": [
    "Cat_Checker(0)"
   ]
  },
  {
   "cell_type": "code",
   "execution_count": 37,
   "id": "9b5af009",
   "metadata": {},
   "outputs": [
    {
     "data": {
      "text/plain": [
       "('Model',\n",
       " array(['3 Series', '5 Series', 'A3', 'A4', 'Accord', 'C-Class', 'CR-V',\n",
       "        'Camry', 'Civic', 'Corolla', 'E-Class', 'Elantra', 'Equinox',\n",
       "        'Explorer', 'Fiesta', 'Focus', 'GLA', 'Golf', 'Impala', 'Malibu',\n",
       "        'Optima', 'Passat', 'Q5', 'RAV4', 'Rio', 'Sonata', 'Sportage',\n",
       "        'Tiguan', 'Tucson', 'X5'], dtype=object))"
      ]
     },
     "execution_count": 37,
     "metadata": {},
     "output_type": "execute_result"
    }
   ],
   "source": [
    "Cat_Checker(1)"
   ]
  },
  {
   "cell_type": "code",
   "execution_count": 38,
   "id": "cd88e363",
   "metadata": {},
   "outputs": [
    {
     "data": {
      "text/plain": [
       "('Transmission',\n",
       " array(['Automatic', 'Manual', 'Semi-Automatic'], dtype=object))"
      ]
     },
     "execution_count": 38,
     "metadata": {},
     "output_type": "execute_result"
    }
   ],
   "source": [
    "Cat_Checker(3)"
   ]
  },
  {
   "cell_type": "code",
   "execution_count": 39,
   "id": "6c3359af",
   "metadata": {},
   "outputs": [
    {
     "data": {
      "text/plain": [
       "('Fuel', array(['Diesel', 'Electric', 'Hybrid', 'Petrol'], dtype=object))"
      ]
     },
     "execution_count": 39,
     "metadata": {},
     "output_type": "execute_result"
    }
   ],
   "source": [
    "Cat_Checker(2)"
   ]
  },
  {
   "cell_type": "code",
   "execution_count": 41,
   "id": "80e31ba3",
   "metadata": {},
   "outputs": [
    {
     "name": "stdout",
     "output_type": "stream",
     "text": [
      "Stored 'X_test' (DataFrame)\n",
      "Stored 'y_test' (Series)\n",
      "Stored 'df' (DataFrame)\n",
      "Stored 'numeric_columns' (list)\n",
      "Stored 'cat_columns' (list)\n"
     ]
    }
   ],
   "source": [
    "%store X_test\n",
    "%store y_test\n",
    "%store df\n",
    "%store numeric_columns\n",
    "%store cat_columns"
   ]
  }
 ],
 "metadata": {
  "kernelspec": {
   "display_name": "base",
   "language": "python",
   "name": "python3"
  },
  "language_info": {
   "codemirror_mode": {
    "name": "ipython",
    "version": 3
   },
   "file_extension": ".py",
   "mimetype": "text/x-python",
   "name": "python",
   "nbconvert_exporter": "python",
   "pygments_lexer": "ipython3",
   "version": "3.9.7"
  }
 },
 "nbformat": 4,
 "nbformat_minor": 5
}
